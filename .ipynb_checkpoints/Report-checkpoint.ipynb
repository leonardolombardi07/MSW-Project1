{
 "cells": [
  {
   "cell_type": "markdown",
   "metadata": {},
   "source": [
    "# 1. Introduction\n",
    "\n",
    "The objective of this project is to perform statistical and spectral analysis of wave elevation time-series by analysing a sample of the heave movements of a buoy deployed along the coast of Rio Grande do Sul, Brazil. This report describes procedures and equations used to arrive at results to the problems set out in the project specifications, always discussing them in the light of applied physical-mathematical modeling discussed in class."
   ]
  },
  {
   "cell_type": "markdown",
   "metadata": {},
   "source": [
    "# 2. Dataset\n",
    "\n",
    "The chosen sample contains data for the 31st of August 2009, measured at latitude -31,56667 and longitude -49.86667, located close to the city of Tavares, as shown in the figure below:\n",
    "\n",
    "<br />\n",
    "<img src=\"images/BuoyLatLong.png\" alt=\"Latitude and Longitude of Buoy\" width=\"600\" />\n",
    "<br />\n",
    "\n",
    "The sample data is stored in a file with a .tsr extension named \"Sample\", with each line providing, for an instant in time (first column), corresponding data of \"heave\", \"etaEW\" and \"etaNS\" (second, third and fourth columns, respectively). The figure below contains a screenshot of the initial part of the sample:\n",
    "\n",
    "<br />\n",
    "<img src=\"images/SampleExample.png\" alt=\"Sample Example\" width=\"400\" />\n",
    "<br />\n",
    "\n",
    "It appears from the data that the sampling interval is of 0.78 seconds, which corresponds to a frequency of 1.28 hertz. To facilitate data manipulation throughout this report, we convert data from the Sample.tsc file to a python array:"
   ]
  },
  {
   "cell_type": "code",
   "execution_count": 1,
   "metadata": {},
   "outputs": [],
   "source": [
    "SampleFile = open('Sample.tsr','r')\n",
    "\n",
    "# We get all the lines of the Sample file, except the first three because they contain headers\n",
    "dataStartIndex = 3\n",
    "unformattedLines = SampleFile.readlines()[dataStartIndex:]\n",
    "\n",
    "def formatLine(line):\n",
    "    '''Lines come as a string with the following format \"   0.8\\t  0.800\\t   0.410000\\t   0.470000\\n\". \n",
    "    This function convert this is string into an array like [0.8, 0.8, 0.41, 0.47], where each element\n",
    "    in the array corresponds to time, heave, etaEW and etaNS, respectively'''\n",
    "    return list(map(float, line.split()))\n",
    "\n",
    "pythonSampleArray = list(map(formatLine, unformattedLines))"
   ]
  },
  {
   "cell_type": "markdown",
   "metadata": {},
   "source": [
    "We then install the following packages: \n",
    "\n",
    "1. Numpy, to help us make certain array operations faster and easier;\n",
    "2. MatPlotLib, to help us plot data; and\n",
    "3. Scipy, to provide us algorithms for running data analysis.\n",
    "\n",
    "If any error indicating the need to install these packages occurs, uncomment the cell below and run it to install them."
   ]
  },
  {
   "cell_type": "code",
   "execution_count": 2,
   "metadata": {},
   "outputs": [],
   "source": [
    "# ! pip install numpy\n",
    "# ! pip install matplotlib\n",
    "# ! pip install scipy"
   ]
  },
  {
   "cell_type": "markdown",
   "metadata": {},
   "source": [
    "We import the mentioned packages as officially advised and adopted by the community and import other python native packages. All of them are then available for use in the next cells of this report."
   ]
  },
  {
   "cell_type": "code",
   "execution_count": 3,
   "metadata": {},
   "outputs": [],
   "source": [
    "# Community packages\n",
    "import numpy as np\n",
    "import matplotlib as mpl\n",
    "import matplotlib.pyplot as plt\n",
    "\n",
    "# Native packages\n",
    "import math"
   ]
  },
  {
   "cell_type": "markdown",
   "metadata": {},
   "source": [
    "(since all of the interesting functions in Scipy are actually located in the submodules, Scipy algotithms are imported as needed) "
   ]
  },
  {
   "cell_type": "markdown",
   "metadata": {},
   "source": [
    "Then we stratify the sample data into arrays containing parameter data (heave, etaNS, etc) and unify them again into an array (named \"parameters\") with dictionaries containing information for each parameter - this way, when we iterate over this array, we have all the information we may need for each parameter."
   ]
  },
  {
   "cell_type": "code",
   "execution_count": 4,
   "metadata": {},
   "outputs": [],
   "source": [
    "import numpy as np\n",
    "import matplotlib as mpl\n",
    "import matplotlib.pyplot as plt\n",
    "\n",
    "times, heaves, etaEWs, etaNSs = [], [], [], []\n",
    "for time, heave, etaEW, etaNS in pythonSampleArray:\n",
    "    times.append(time)\n",
    "    heaves.append(heave)\n",
    "    etaEWs.append(etaEW)\n",
    "    etaNSs.append(etaNS)\n",
    "\n",
    "parameters = [\n",
    "    { \"name\": \"Time\", \"data\": times, \"unity\": \"seconds\" }, \n",
    "    { \"name\": \"Heave\", \"data\": heaves, \"unity\": \"meters\" },\n",
    "    { \"name\": \"etaEW\", \"data\": etaEWs, \"unity\": \"meters\" },\n",
    "    { \"name\": \"etaNS\", \"data\": etaNSs, \"unity\": \"meters\" }\n",
    "]"
   ]
  },
  {
   "cell_type": "markdown",
   "metadata": {},
   "source": [
    "# 3. Part One - Analysis of Individual Waves."
   ]
  },
  {
   "cell_type": "markdown",
   "metadata": {},
   "source": [
    "## 3.1 Mean, dispersion (variance), skewness, and kurtosis (first four moments)\n",
    "\n",
    "Write about this"
   ]
  },
  {
   "cell_type": "code",
   "execution_count": 10,
   "metadata": {},
   "outputs": [
    {
     "data": {
      "image/png": "[encoded data removed]",
      "text/plain": [
       "<Figure size 432x288 with 1 Axes>"
      ]
     },
     "metadata": {
      "needs_background": "light"
     },
     "output_type": "display_data"
    }
   ],
   "source": [
    "from scipy.stats import skew, kurtosis\n",
    "\n",
    "meanList, varianceList, skewnessList, kurtosisList = [], [], [], []\n",
    "for parameter in parameters:\n",
    "    data = parameter[\"data\"]\n",
    "    meanList.append(np.mean(data))\n",
    "    varianceList.append(np.var(data))\n",
    "    skewnessList.append(skew(data))\n",
    "    kurtosisList.append(kurtosis(data, fisher=False))\n",
    "\n",
    "moments = [meanList, varianceList, skewnessList, kurtosisList]\n",
    "\n",
    "fig, ax = plt.subplots()\n",
    "ax.set_axis_off()\n",
    "table = ax.table(     \n",
    "    rowLabels = [\"mean\", \"variance\", \"skewness\", \"kurtosis\"], \n",
    "    colLabels = [parameter[\"name\"] for parameter in parameters],\n",
    "    cellText = [[round(val, 3) for val in moment] for moment in moments],\n",
    "    rowColours =[\"palegreen\"] * len(parameters),  \n",
    "    colColours =[\"palegreen\"] * len(parameters), \n",
    "    cellLoc ='center',  \n",
    "    loc ='upper left')         \n",
    "   \n",
    "ax.set_title(\"Mean, variance, skewness and kurtosis for sample parameters \\n\", fontweight =\"bold\") \n",
    "   \n",
    "plt.show() "
   ]
  },
  {
   "cell_type": "markdown",
   "metadata": {},
   "source": [
    "<h1 style=\"color:red\">TODO:</h1> Analyse results from table"
   ]
  },
  {
   "cell_type": "markdown",
   "metadata": {},
   "source": [
    "## Validation \n",
    "To ensure that the results previously obtained with numpy and other libraries are correct, we check if they are consistent with what we expect with the creation of our own functions for probabilistic moments.\n",
    "\n",
    "\n",
    "<h1 style=\"color:red\">TODO:</h1> Hide validation cells on delivery"
   ]
  },
  {
   "cell_type": "code",
   "execution_count": 13,
   "metadata": {
    "tags": [
     "\"hide-input\""
    ]
   },
   "outputs": [
    {
     "name": "stdout",
     "output_type": "stream",
     "text": [
      "All assertions passed 🥳🥳\n"
     ]
    }
   ],
   "source": [
    "# You don't need to read this unless you want to understand how tests were made\n",
    "\n",
    "def mockMean(arr):\n",
    "    return sum(arr)/len(arr)\n",
    "\n",
    "def mockVariance(arr):\n",
    "    mean_ = mockMean(arr)\n",
    "    sum_ = 0\n",
    "    for value in arr:\n",
    "        sum_ += (value - mean_)**2\n",
    "    return (sum_ / (len(arr) - 1))\n",
    "\n",
    "def mockStandardDeviation(arr):\n",
    "    return math.sqrt(mockVariance(arr))\n",
    "\n",
    "def mockSkew(arr):\n",
    "    mean_ = mockMean(arr)\n",
    "    sum_ = 0\n",
    "    for value in arr:\n",
    "        sum_ += (value - mean_)**3\n",
    "    return (sum_ / (len(arr) * mockStandardDeviation(arr)**3))\n",
    "\n",
    "def mockKurtosis(arr, fisher=False):\n",
    "    mean_ = mockMean(arr)\n",
    "    sum_ = 0\n",
    "    for value in arr:\n",
    "        sum_ += (value - mean_)**4\n",
    "    \n",
    "    valueToSubtract = 3 if fisher else 0\n",
    "    return ((sum_ / (len(arr) * mockStandardDeviation(arr)**4)) - valueToSubtract)\n",
    "\n",
    "\n",
    "def validateMoments(shouldPrint=False, atol=1e-08, rtol=1):\n",
    "    '''Verify if moments obtained are consisted with expected from \n",
    "    our own defined functions'''\n",
    "    \n",
    "    def buildAssertionMoments():\n",
    "        '''For each parameter, calculate its moments with our\n",
    "        own defined functions and returns them as an array of \n",
    "        arrays'''\n",
    "        \n",
    "        ms, vs, sks, kurts = [], [], [], []\n",
    "        for parameter in parameters:\n",
    "            data = parameter[\"data\"]\n",
    "            ms.append(mockMean(data))\n",
    "            vs.append(mockVariance(data))\n",
    "            sks.append(mockSkew(data))\n",
    "            kurts.append(mockKurtosis(data))\n",
    "        return [ms, vs, sks, kurts]\n",
    "        \n",
    "    assertionMoments = buildAssertionMoments()\n",
    "    for i, assertionMoment in enumerate(assertionMoments):\n",
    "        moment = moments[i]\n",
    "        foundError = False\n",
    "        try:\n",
    "            assert(np.allclose(moment, assertionMoment, atol=atol, rtol=rtol))\n",
    "        except:\n",
    "            print(f\"Seems like the array corresponding to moment: {moment} is not close enough to {assertionMoment}\")\n",
    "            print(\"\\n\")\n",
    "            foundError = True\n",
    "            \n",
    "    if (foundError == False):\n",
    "        print(\"All assertions passed 🥳🥳\")\n",
    "    \n",
    "    if (shouldPrint == True):\n",
    "        print(\"\\n -------Printing moments and assertion moments------- \\n\")\n",
    "        for i, assertionMoment in enumerate(assertionMoments):\n",
    "            moment = moments[i]\n",
    "            print(f\"Moment: {moment}.\")\n",
    "            print(f\"Assertion Moment: {assertionMoment}\")\n",
    "            print(\"\\n\")\n",
    "        print(\"\\n\")\n",
    "    \n",
    "    \n",
    "validateMoments(shouldPrint=False)"
   ]
  },
  {
   "cell_type": "markdown",
   "metadata": {},
   "source": [
    "## 3.2 Distribution of Free Surface Elevation\n",
    "(in comparison with Gaussian and Longuet-Higgins distributions)\n",
    "\n",
    "Write about this"
   ]
  },
  {
   "cell_type": "code",
   "execution_count": 7,
   "metadata": {},
   "outputs": [],
   "source": [
    "def longuetHigginsDist(xs, mean, variance, skew, extremeKurtosis):\n",
    "    standardDeviation = math.sqrt(variance)\n",
    "    def x(eta): return eta/standardDeviation\n",
    "    def H3(x): return x**3 - 3*x \n",
    "    def H4(x): return x**4 - 6*(x**2) + 3\n",
    "    def H6(x): return x**6 - 15*(x**4) + 45*(x**2) - 15\n",
    "    \n",
    "    def multiplyingFactor(eta):\n",
    "        lambda3 = skew/6\n",
    "        lambda4 = extremeKurtosis\n",
    "        first = (lambda3/math.factorial(3))*H3(x(eta))\n",
    "        second = (lambda4/math.factorial(4))*H4(x(eta))\n",
    "        third = ((lambda3**2)/72)*H6(x(eta))\n",
    "        return 1 + first + second + third\n",
    "    \n",
    "    def normalDist(eta):\n",
    "        variance = standardDeviation**2\n",
    "        return norm.pdf(eta, loc=mean, scale=standardDeviation)\n",
    "    \n",
    "    densities = []\n",
    "    for eta in xs:\n",
    "        density = normalDist(eta)*multiplyingFactor(eta)\n",
    "        densities.append(density)\n",
    "    return densities"
   ]
  },
  {
   "cell_type": "code",
   "execution_count": 9,
   "metadata": {},
   "outputs": [
    {
     "data": {
      "image/png": "[encoded data removed]",
      "text/plain": [
       "<Figure size 432x288 with 1 Axes>"
      ]
     },
     "metadata": {
      "needs_background": "light"
     },
     "output_type": "display_data"
    }
   ],
   "source": [
    "from scipy.stats import norm\n",
    "\n",
    "# Data relatied to the analyzed parameter (abbreviated as \"p\") from parameters\n",
    "pIndex = 1 # 1=heave, 2=etaEW, etc...\n",
    "pMean, pVariance, pSkew, pKurtosis = meanList[pIndex], varianceList[pIndex], skewnessList[pIndex], kurtosisList[pIndex]\n",
    "pStandardDeviation = math.sqrt(pVariance)\n",
    "data = parameters[pIndex][\"data\"]\n",
    "\n",
    "# Determining best bin fit for data and corresponding x interval\n",
    "_, bins = np.histogram(data, bins=\"auto\", density=True)\n",
    "x = np.arange(min(bins), max(bins), 0.01)\n",
    "\n",
    "# Calculating densities of Gaussian and Longuet-Higgins distributions\n",
    "gaussian = norm.pdf(x, loc=pMean, scale=pStandardDeviation)\n",
    "longuetHiggins = longuetHigginsDist(x, mean=pMean, variance=pVariance, skew=pSkew, extremeKurtosis=pKurtosis-3)\n",
    "\n",
    "\n",
    "# Ploting Gaussian, Longuet and empirical data in the same figure\n",
    "fig, ax = plt.subplots(1, 1)\n",
    "ax.plot(x, gaussian, label=\"Gaussian\")\n",
    "ax.plot(x, longuetHiggins, label=\"Longuet-Higgins\")\n",
    "ax.hist(data, bins=bins, density=True, alpha=0.3, label=\"Empirical\")\n",
    "ax.legend(loc=\"best\")\n",
    "ax.set_title(\"Comparing Gaussian and Longuet Higgins distributions to emprical distribution of the free surface elevation \\n\", \n",
    "             fontweight =\"bold\")\n",
    "name = parameters[pIndex][\"name\"]\n",
    "unity = parameters[pIndex][\"unity\"]\n",
    "ax.set_xlabel(f\"{name} [{unity}]\")\n",
    "ax.set_ylabel(\"Density\")\n",
    "plt.show()"
   ]
  },
  {
   "cell_type": "markdown",
   "metadata": {},
   "source": [
    "## 3.3 Identify Up-crossing and Down-crossing individual waves and associated periods\n",
    "Representing wave heights in a histogram and comparing with the Rayleigh distribution.\n",
    "\n",
    "Write about this"
   ]
  },
  {
   "cell_type": "code",
   "execution_count": null,
   "metadata": {},
   "outputs": [],
   "source": []
  }
 ],
 "metadata": {
  "kernelspec": {
   "display_name": "Python 3",
   "language": "python",
   "name": "python3"
  },
  "language_info": {
   "codemirror_mode": {
    "name": "ipython",
    "version": 3
   },
   "file_extension": ".py",
   "mimetype": "text/x-python",
   "name": "python",
   "nbconvert_exporter": "python",
   "pygments_lexer": "ipython3",
   "version": "3.8.5"
  }
 },
 "nbformat": 4,
 "nbformat_minor": 4
}
